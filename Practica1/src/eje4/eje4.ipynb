{
 "cells": [
  {
   "metadata": {
    "jupyter": {
     "is_executing": true
    }
   },
   "cell_type": "code",
   "source": [
    "import lecturas as l\n",
    "import perceptron_adaline as pa\n",
    "import classes_neuro as cn"
   ],
   "id": "9da023c6e9830925",
   "outputs": [],
   "execution_count": null
  },
  {
   "metadata": {
    "collapsed": true
   },
   "cell_type": "code",
   "outputs": [],
   "execution_count": null,
   "source": [
    "texts = [\"and.txt\",\"or.txt\",\"nand.txt\"]\n",
    "for txt in texts:\n",
    "    attributes,classes=l.read2(txt)\n",
    "    mse_list = pa.train_adaline(attributes ,classes ,1 ,1e-5 , 30)\n",
    "    cn.plot_list(mse_list,\"Epoch\",\"MSE\",\"MSE Development\")"
   ],
   "id": "initial_id"
  },
  {
   "metadata": {
    "ExecuteTime": {
     "end_time": "2025-03-07T10:50:02.169177Z",
     "start_time": "2025-03-07T10:50:02.060578Z"
    }
   },
   "cell_type": "code",
   "source": [
    "attributes,classes=l.read2(\"../texts/problema_real1.txt\")\n",
    "mse_list = pa.train_perceptron(attributes, classes, 0.001, 0.2, 800)\n",
    "cn.plot_list(mse_list,\"Epoch\",\"MSE\",\"MSE Development\")"
   ],
   "id": "4d8361fe9d53132c",
   "outputs": [
    {
     "ename": "NameError",
     "evalue": "name 'l' is not defined",
     "output_type": "error",
     "traceback": [
      "\u001B[0;31m---------------------------------------------------------------------------\u001B[0m",
      "\u001B[0;31mNameError\u001B[0m                                 Traceback (most recent call last)",
      "Cell \u001B[0;32mIn[1], line 1\u001B[0m\n\u001B[0;32m----> 1\u001B[0m attributes,classes\u001B[38;5;241m=\u001B[39m\u001B[43ml\u001B[49m\u001B[38;5;241m.\u001B[39mread2(\u001B[38;5;124m\"\u001B[39m\u001B[38;5;124mproblema_real1.txt\u001B[39m\u001B[38;5;124m\"\u001B[39m)\n\u001B[1;32m      2\u001B[0m mse_list \u001B[38;5;241m=\u001B[39m pa\u001B[38;5;241m.\u001B[39mtrain_perceptron(attributes, classes, \u001B[38;5;241m0.001\u001B[39m, \u001B[38;5;241m0.2\u001B[39m, \u001B[38;5;241m800\u001B[39m)\n\u001B[1;32m      3\u001B[0m cn\u001B[38;5;241m.\u001B[39mplot_list(mse_list,\u001B[38;5;124m\"\u001B[39m\u001B[38;5;124mEpoch\u001B[39m\u001B[38;5;124m\"\u001B[39m,\u001B[38;5;124m\"\u001B[39m\u001B[38;5;124mMSE\u001B[39m\u001B[38;5;124m\"\u001B[39m,\u001B[38;5;124m\"\u001B[39m\u001B[38;5;124mMSE Development\u001B[39m\u001B[38;5;124m\"\u001B[39m)\n",
      "\u001B[0;31mNameError\u001B[0m: name 'l' is not defined"
     ]
    }
   ],
   "execution_count": 1
  }
 ],
 "metadata": {
  "kernelspec": {
   "display_name": "Python 3",
   "language": "python",
   "name": "python3"
  },
  "language_info": {
   "codemirror_mode": {
    "name": "ipython",
    "version": 2
   },
   "file_extension": ".py",
   "mimetype": "text/x-python",
   "name": "python",
   "nbconvert_exporter": "python",
   "pygments_lexer": "ipython2",
   "version": "2.7.6"
  }
 },
 "nbformat": 4,
 "nbformat_minor": 5
}
